{
 "cells": [
  {
   "cell_type": "code",
   "execution_count": 9,
   "id": "5ce4d593",
   "metadata": {},
   "outputs": [
    {
     "name": "stdout",
     "output_type": "stream",
     "text": [
      "['삼성전자', 'HMM', '현대차', 'LG화학', 'SK하이닉스', '기업은행', 'S-Oil', '기아', '대한항공', 'KB금융', '카카오', '현대모비스', '삼성물산', '신한지주', '현대글로비스', '우리금융지주', '하나금융지주', '삼성화재', 'NAVER', '한화솔루션', '이마트', 'DB손해보험', '현대제철', 'KT&G', '에스디바이오센서', 'SK텔레콤', '삼성SDI', 'LG전자', '한국가스공사', 'KT', 'LG', 'LG이노텍', '삼성전기', '삼성바이오로직스', '팬오션', '한국금융지주', 'LG유플러스', '고려아연', '삼성카드', '삼성생명', '금호석유', '현대해상', 'DB하이텍', 'SK', '삼성에스디에스', 'LX인터내셔널', 'KG스틸', '셀트리온', '키움증권', '크래프톤', '엔씨소프트', 'SK이노베이션', 'LS', 'GS', 'SK스퀘어', '미래에셋증권', '롯데정밀화학', 'F&F', '한진칼', '삼성증권', 'HD한국조선해양', '코웨이', '한화생명', '현대건설', 'JB금융지주', 'NH투자증권', 'KG ETS', 'DL이앤씨', '삼성엔지니어링', '한화에어로스페이스', 'BNK금융지주', '효성티앤씨', '포스코인터내셔널', '한화', '엘앤에프', 'SK가스', 'CJ제일제당', '한국타이어앤테크놀로지', '카카오뱅크', '대우건설', '신세계', 'GS건설', '심텍', 'LX세미콘', '아시아나항공', 'HD현대', '현대로템', '효성첨단소재', 'HD현대인프라코어', '영원무역', 'CJ대한통운', 'BGF리테일', '아이에스동서', '오뚜기', '아모레퍼시픽', '휴마시스', '대덕전자', '두산', '풍산', '에코프로비엠', '코리안리', '동서', '콘텐트리중앙', '에스엘', 'SK디스커버리', '아모레G', '현대백화점', '해성디에스', '세아제강', 'LF', '동국홀딩스', 'DGB금융지주', '바이오노트', '솔브레인', 'DL', '씨젠', '쌍용C&E', '동진쎄미켐', '에스원', 'HD현대일렉트릭', '휠라홀딩스', 'OCI홀딩스', '유한양행', '대한제강', '한국항공우주', '한섬', 'LIG넥스원', '송원산업', 'SK바이오사이언스', '한솔케미칼', 'SBS', '롯데칠성', '현대엘리베이', 'SKC', '유니드', '동원산업', '쿠쿠홈시스', '강원랜드', '포스코퓨처엠', '리노공업', '두산밥캣', '골프존', '대한해운', '메리츠금융지주', 'HD현대건설기계', 'CJ', '주성엔지니어링', '현대오토에버', '오리온', '한세실업', '메가스터디교육', '국도화학', 'TYM', 'HL홀딩스', '한전KPS', '동양생명', 'KCC글라스', '카카오페이', '티씨케이', '우리종금', '한미반도체', 'SNT모티브', '원익IPS', '신세계인터내셔날', '이녹스첨단소재', '이수페타시스', '인탑스', '대상', '신성통상', '종근당', '동원개발', 'SGC에너지', 'TKG휴켐스', '웹젠', '성우하이텍', 'LX홀딩스', 'CJ ENM', '하나머티리얼즈', '삼양홀딩스', '롯데렌탈', 'NHN', '농심', 'LG생활건강', '이오테크닉스', '에스에프에이', '삼양식품', '클래시스', '다우기술', 'SK디앤디', '동원F&B', '더네이쳐홀딩스', 'SK케미칼', '피에스케이', '에스엠', '바텍', 'LS ELECTRIC', '하이트진로', 'HPSP', '한일시멘트', 'HD현대에너지솔루션', '롯데지주', '제일기획', '컴투스', '코오롱인더', '코웰패션', 'GS리테일', '덴티움', '피엔티', '동원시스템즈', '한국앤컴퍼니', '원익머트리얼즈', '아프리카TV', '비에이치', '애경케미칼', '미래에셋생명', '후성', '삼양사', '더블유씨피', '케이씨텍', 'JYP Ent.', '드림텍', '코리아써키트', '녹십자', '한글과컴퓨터', '대웅', '영원무역홀딩스', 'NICE평가정보', '동국제약', '두산테스나', '유진테크', '락앤락', 'KG이니시스', '하이브', '효성중공업', '한미약품', '보령', '아세아시멘트', '대웅제약', '세방전지', 'ISC', 'SIMPAC', '남해화학', '원익QnC', '테스', '루트로닉', 'SPC삼립', 'PI첨단소재', '유나이티드제약', '고려제강', '교보증권', '경동나비엔', '넥스틴', '포스코DX', 'HDC', '스튜디오드래곤', '코미코', '한국토지신탁', '티이엠씨', '한국단자', '파마리서치', '에치에프알', '대성홀딩스', 'CJ프레시웨이', '코엔텍', '솔루엠', '솔루스첨단소재', '아난티', '덕산네오룩스', '유안타증권', 'HK이노엔', '동화기업', 'DN오토모티브', '셀트리온헬스케어', '티에스이', 'LB세미콘', '콜마비앤에이치', '티와이홀딩스', '메디톡스', 'HDC현대산업개발', '성일하이텍', '한일현대시멘트', '고영', '태광', '이엔에프테크놀로지', '스카이라이프', 'JW중외제약', 'NHN KCP', '코오롱플라스틱', '에코프로에이치엔', '사람인', '지씨셀', '빙그레', '케이카', '엔켐', 'SFA반도체', '에이피티씨', '와이지엔터테인먼트', '한화시스템', '쏠리드', '휴젤']\n"
     ]
    }
   ],
   "source": [
    "from selenium import webdriver\n",
    "import time\n",
    "\n",
    "driver = webdriver.Chrome()\n",
    "TOP_300 = list()\n",
    "url = 'https://comp.fnguide.com/SVO2/ASP/SVD_UJRank.asp?pGB=1&gicode=A005930&cID=&MenuYn=Y&ReportGB=&NewMenuID=301&stkGb=701'\n",
    "driver.get(url)\n",
    "\n",
    "time.sleep(3)\n",
    "i = 1 #start index is 1\n",
    "\n",
    "while(len(TOP_300) < 300):\n",
    "    xpath_id = str('//*[@id=\"UJRankGrid\"]/table/tbody/tr[') + str(i) + str(']/td[2]/a')\n",
    "    i+=1\n",
    "    found = driver.find_element(By.XPATH, xpath_id)\n",
    "        #print(found.text)\n",
    "    TOP_300.append(found.text)\n",
    "#    except:\n",
    "#        print(\"There is no xpath_id like that %s\"%xpath_id)\n",
    "\n",
    "print(TOP_300)"
   ]
  },
  {
   "cell_type": "code",
   "execution_count": 10,
   "id": "48ac26e6",
   "metadata": {},
   "outputs": [
    {
     "name": "stdout",
     "output_type": "stream",
     "text": [
      "            기업\n",
      "0         삼성전자\n",
      "1          HMM\n",
      "2          현대차\n",
      "3         LG화학\n",
      "4       SK하이닉스\n",
      "..         ...\n",
      "295      에이피티씨\n",
      "296  와이지엔터테인먼트\n",
      "297      한화시스템\n",
      "298        쏠리드\n",
      "299         휴젤\n",
      "\n",
      "[300 rows x 1 columns]\n"
     ]
    }
   ],
   "source": [
    "import pandas as pd\n",
    "\n",
    "# 리스트를 데이터프레임으로 변환\n",
    "df = pd.DataFrame(TOP_300)\n",
    "\n",
    "\n",
    "new_columns = {0:'기업'}\n",
    "df = df.rename(columns=new_columns)\n",
    "print(df)"
   ]
  },
  {
   "cell_type": "code",
   "execution_count": 11,
   "id": "57620914",
   "metadata": {},
   "outputs": [],
   "source": [
    "df.to_csv('TOP_300.csv',  index=False, encoding='utf-8-sig')"
   ]
  },
  {
   "cell_type": "code",
   "execution_count": 12,
   "id": "7402fb4d",
   "metadata": {},
   "outputs": [
    {
     "data": {
      "text/html": [
       "<div>\n",
       "<style scoped>\n",
       "    .dataframe tbody tr th:only-of-type {\n",
       "        vertical-align: middle;\n",
       "    }\n",
       "\n",
       "    .dataframe tbody tr th {\n",
       "        vertical-align: top;\n",
       "    }\n",
       "\n",
       "    .dataframe thead th {\n",
       "        text-align: right;\n",
       "    }\n",
       "</style>\n",
       "<table border=\"1\" class=\"dataframe\">\n",
       "  <thead>\n",
       "    <tr style=\"text-align: right;\">\n",
       "      <th></th>\n",
       "      <th>기업</th>\n",
       "      <th>산업군</th>\n",
       "    </tr>\n",
       "  </thead>\n",
       "  <tbody>\n",
       "    <tr>\n",
       "      <th>0</th>\n",
       "      <td>삼성전자</td>\n",
       "      <td>IT</td>\n",
       "    </tr>\n",
       "    <tr>\n",
       "      <th>1</th>\n",
       "      <td>HMM</td>\n",
       "      <td>산업재</td>\n",
       "    </tr>\n",
       "    <tr>\n",
       "      <th>2</th>\n",
       "      <td>현대차</td>\n",
       "      <td>경기소비재</td>\n",
       "    </tr>\n",
       "    <tr>\n",
       "      <th>3</th>\n",
       "      <td>LG화학</td>\n",
       "      <td>소재</td>\n",
       "    </tr>\n",
       "    <tr>\n",
       "      <th>4</th>\n",
       "      <td>SK하이닉스</td>\n",
       "      <td>IT</td>\n",
       "    </tr>\n",
       "    <tr>\n",
       "      <th>...</th>\n",
       "      <td>...</td>\n",
       "      <td>...</td>\n",
       "    </tr>\n",
       "    <tr>\n",
       "      <th>295</th>\n",
       "      <td>에이피티씨</td>\n",
       "      <td>IT</td>\n",
       "    </tr>\n",
       "    <tr>\n",
       "      <th>296</th>\n",
       "      <td>와이지엔터테인먼트</td>\n",
       "      <td>경기소비재</td>\n",
       "    </tr>\n",
       "    <tr>\n",
       "      <th>297</th>\n",
       "      <td>한화시스템</td>\n",
       "      <td>산업재</td>\n",
       "    </tr>\n",
       "    <tr>\n",
       "      <th>298</th>\n",
       "      <td>쏠리드</td>\n",
       "      <td>IT</td>\n",
       "    </tr>\n",
       "    <tr>\n",
       "      <th>299</th>\n",
       "      <td>휴젤</td>\n",
       "      <td>의료</td>\n",
       "    </tr>\n",
       "  </tbody>\n",
       "</table>\n",
       "<p>300 rows × 2 columns</p>\n",
       "</div>"
      ],
      "text/plain": [
       "            기업    산업군\n",
       "0         삼성전자     IT\n",
       "1          HMM    산업재\n",
       "2          현대차  경기소비재\n",
       "3         LG화학     소재\n",
       "4       SK하이닉스     IT\n",
       "..         ...    ...\n",
       "295      에이피티씨     IT\n",
       "296  와이지엔터테인먼트  경기소비재\n",
       "297      한화시스템    산업재\n",
       "298        쏠리드     IT\n",
       "299         휴젤     의료\n",
       "\n",
       "[300 rows x 2 columns]"
      ]
     },
     "execution_count": 12,
     "metadata": {},
     "output_type": "execute_result"
    }
   ],
   "source": [
    "df_com = pd.read_csv('TOP_300.csv')\n",
    "df_산업군 = pd.read_csv('/Users/crlee/융복합프로젝트/df_산업군.csv')\n",
    "\n",
    "df_com['산업군'] = df_com['기업'].map(df_산업군.set_index('기업')['산업군'])\n",
    "df_com\n",
    "df_com.to_csv('TOP_300_산업군.csv',  index=False, encoding='utf-8-sig')"
   ]
  },
  {
   "cell_type": "code",
   "execution_count": null,
   "id": "c7527375",
   "metadata": {},
   "outputs": [],
   "source": []
  },
  {
   "cell_type": "code",
   "execution_count": null,
   "id": "bf2eade9",
   "metadata": {},
   "outputs": [],
   "source": []
  },
  {
   "cell_type": "code",
   "execution_count": null,
   "id": "87f7948d",
   "metadata": {},
   "outputs": [],
   "source": []
  },
  {
   "cell_type": "code",
   "execution_count": null,
   "id": "7c3b8ed8",
   "metadata": {},
   "outputs": [],
   "source": []
  },
  {
   "cell_type": "code",
   "execution_count": null,
   "id": "af38ba8a",
   "metadata": {},
   "outputs": [],
   "source": []
  },
  {
   "cell_type": "code",
   "execution_count": null,
   "id": "a7eae23e",
   "metadata": {},
   "outputs": [],
   "source": []
  }
 ],
 "metadata": {
  "kernelspec": {
   "display_name": "Python 3 (ipykernel)",
   "language": "python",
   "name": "python3"
  },
  "language_info": {
   "codemirror_mode": {
    "name": "ipython",
    "version": 3
   },
   "file_extension": ".py",
   "mimetype": "text/x-python",
   "name": "python",
   "nbconvert_exporter": "python",
   "pygments_lexer": "ipython3",
   "version": "3.10.9"
  }
 },
 "nbformat": 4,
 "nbformat_minor": 5
}
