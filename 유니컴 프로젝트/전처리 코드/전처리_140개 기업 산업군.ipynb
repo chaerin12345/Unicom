{
 "cells": [
  {
   "cell_type": "code",
   "execution_count": 7,
   "id": "0b5211d1",
   "metadata": {},
   "outputs": [],
   "source": [
    "import pandas as pd\n"
   ]
  },
  {
   "cell_type": "code",
   "execution_count": 9,
   "id": "0302f3bf",
   "metadata": {},
   "outputs": [],
   "source": [
    "df_com = pd.read_csv('/Users/crlee/융복합프로젝트/df_기업명_140.csv')\n",
    "df_산업군 = pd.read_csv('/Users/crlee/융복합프로젝트/df_산업군.csv')\n",
    "\n",
    "df_com['산업군'] = df_com['기업명'].map(df_산업군.set_index('기업')['산업군'])\n",
    "df_com\n",
    "df_com.to_csv('기업_140_산업군.csv',  index=False, encoding='utf-8-sig')"
   ]
  },
  {
   "cell_type": "code",
   "execution_count": 10,
   "id": "aaf3b633",
   "metadata": {},
   "outputs": [
    {
     "data": {
      "text/html": [
       "<div>\n",
       "<style scoped>\n",
       "    .dataframe tbody tr th:only-of-type {\n",
       "        vertical-align: middle;\n",
       "    }\n",
       "\n",
       "    .dataframe tbody tr th {\n",
       "        vertical-align: top;\n",
       "    }\n",
       "\n",
       "    .dataframe thead th {\n",
       "        text-align: right;\n",
       "    }\n",
       "</style>\n",
       "<table border=\"1\" class=\"dataframe\">\n",
       "  <thead>\n",
       "    <tr style=\"text-align: right;\">\n",
       "      <th></th>\n",
       "      <th>기업명</th>\n",
       "      <th>산업군</th>\n",
       "    </tr>\n",
       "  </thead>\n",
       "  <tbody>\n",
       "    <tr>\n",
       "      <th>0</th>\n",
       "      <td>삼성전자</td>\n",
       "      <td>IT</td>\n",
       "    </tr>\n",
       "    <tr>\n",
       "      <th>1</th>\n",
       "      <td>LG화학</td>\n",
       "      <td>소재</td>\n",
       "    </tr>\n",
       "    <tr>\n",
       "      <th>2</th>\n",
       "      <td>현대모비스</td>\n",
       "      <td>경기소비재</td>\n",
       "    </tr>\n",
       "    <tr>\n",
       "      <th>3</th>\n",
       "      <td>현대글로비스</td>\n",
       "      <td>산업재</td>\n",
       "    </tr>\n",
       "    <tr>\n",
       "      <th>4</th>\n",
       "      <td>이마트</td>\n",
       "      <td>경기소비재</td>\n",
       "    </tr>\n",
       "    <tr>\n",
       "      <th>...</th>\n",
       "      <td>...</td>\n",
       "      <td>...</td>\n",
       "    </tr>\n",
       "    <tr>\n",
       "      <th>134</th>\n",
       "      <td>코오롱플라스틱</td>\n",
       "      <td>소재</td>\n",
       "    </tr>\n",
       "    <tr>\n",
       "      <th>135</th>\n",
       "      <td>빙그레</td>\n",
       "      <td>필수소비재</td>\n",
       "    </tr>\n",
       "    <tr>\n",
       "      <th>136</th>\n",
       "      <td>SFA반도체</td>\n",
       "      <td>IT</td>\n",
       "    </tr>\n",
       "    <tr>\n",
       "      <th>137</th>\n",
       "      <td>와이지엔터테인먼트</td>\n",
       "      <td>경기소비재</td>\n",
       "    </tr>\n",
       "    <tr>\n",
       "      <th>138</th>\n",
       "      <td>휴젤</td>\n",
       "      <td>의료</td>\n",
       "    </tr>\n",
       "  </tbody>\n",
       "</table>\n",
       "<p>139 rows × 2 columns</p>\n",
       "</div>"
      ],
      "text/plain": [
       "           기업명    산업군\n",
       "0         삼성전자     IT\n",
       "1         LG화학     소재\n",
       "2        현대모비스  경기소비재\n",
       "3       현대글로비스    산업재\n",
       "4          이마트  경기소비재\n",
       "..         ...    ...\n",
       "134    코오롱플라스틱     소재\n",
       "135        빙그레  필수소비재\n",
       "136     SFA반도체     IT\n",
       "137  와이지엔터테인먼트  경기소비재\n",
       "138         휴젤     의료\n",
       "\n",
       "[139 rows x 2 columns]"
      ]
     },
     "execution_count": 10,
     "metadata": {},
     "output_type": "execute_result"
    }
   ],
   "source": [
    "df_com"
   ]
  },
  {
   "cell_type": "code",
   "execution_count": null,
   "id": "fb50ab6d",
   "metadata": {},
   "outputs": [],
   "source": []
  }
 ],
 "metadata": {
  "kernelspec": {
   "display_name": "Python 3 (ipykernel)",
   "language": "python",
   "name": "python3"
  },
  "language_info": {
   "codemirror_mode": {
    "name": "ipython",
    "version": 3
   },
   "file_extension": ".py",
   "mimetype": "text/x-python",
   "name": "python",
   "nbconvert_exporter": "python",
   "pygments_lexer": "ipython3",
   "version": "3.10.9"
  }
 },
 "nbformat": 4,
 "nbformat_minor": 5
}
