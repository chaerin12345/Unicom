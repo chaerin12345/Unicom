{
 "cells": [
  {
   "cell_type": "code",
   "execution_count": 18,
   "id": "b0b44a86",
   "metadata": {},
   "outputs": [],
   "source": [
    "import matplotlib.pyplot as plt\n",
    "# 맥북 한글 깨짐\n",
    "from matplotlib import rc\n",
    "rc('font', family='AppleGothic')"
   ]
  },
  {
   "cell_type": "code",
   "execution_count": 38,
   "id": "4a0e9884",
   "metadata": {},
   "outputs": [],
   "source": [
    "import pandas as pd\n",
    "df = pd.read_csv(\"/Users/crlee/융복합프로젝트/corp.csv\", encoding='euc-kr')\n"
   ]
  },
  {
   "cell_type": "code",
   "execution_count": 27,
   "id": "27199874",
   "metadata": {},
   "outputs": [
    {
     "data": {
      "text/html": [
       "<div>\n",
       "<style scoped>\n",
       "    .dataframe tbody tr th:only-of-type {\n",
       "        vertical-align: middle;\n",
       "    }\n",
       "\n",
       "    .dataframe tbody tr th {\n",
       "        vertical-align: top;\n",
       "    }\n",
       "\n",
       "    .dataframe thead th {\n",
       "        text-align: right;\n",
       "    }\n",
       "</style>\n",
       "<table border=\"1\" class=\"dataframe\">\n",
       "  <thead>\n",
       "    <tr style=\"text-align: right;\">\n",
       "      <th></th>\n",
       "      <th>corp_code</th>\n",
       "      <th>corp_name</th>\n",
       "      <th>corp_m</th>\n",
       "      <th>corp_w</th>\n",
       "      <th>corp_sales</th>\n",
       "      <th>corp_sm</th>\n",
       "      <th>corp_aug</th>\n",
       "      <th>corp_est</th>\n",
       "      <th>corp_sal</th>\n",
       "      <th>corp_add</th>\n",
       "      <th>corp_long</th>\n",
       "      <th>corp_lati</th>\n",
       "      <th>corp_wel</th>\n",
       "      <th>corp_ind</th>\n",
       "      <th>corp_ope</th>\n",
       "    </tr>\n",
       "  </thead>\n",
       "  <tbody>\n",
       "    <tr>\n",
       "      <th>63</th>\n",
       "      <td>117212</td>\n",
       "      <td>두산</td>\n",
       "      <td>0.833825</td>\n",
       "      <td>0.166175</td>\n",
       "      <td>1.364917e+13</td>\n",
       "      <td>2034</td>\n",
       "      <td>9.07</td>\n",
       "      <td>1933년 12월 18일</td>\n",
       "      <td>88784169.0</td>\n",
       "      <td>서울 중구 장충단로 275</td>\n",
       "      <td>127.008716</td>\n",
       "      <td>37.56871</td>\n",
       "      <td>0.0</td>\n",
       "      <td>산업재</td>\n",
       "      <td>6.654155e+11</td>\n",
       "    </tr>\n",
       "  </tbody>\n",
       "</table>\n",
       "</div>"
      ],
      "text/plain": [
       "    corp_code corp_name    corp_m    corp_w    corp_sales  corp_sm  corp_aug  \\\n",
       "63     117212        두산  0.833825  0.166175  1.364917e+13     2034      9.07   \n",
       "\n",
       "         corp_est    corp_sal        corp_add   corp_long  corp_lati  \\\n",
       "63  1933년 12월 18일  88784169.0  서울 중구 장충단로 275  127.008716   37.56871   \n",
       "\n",
       "    corp_wel corp_ind      corp_ope  \n",
       "63       0.0      산업재  6.654155e+11  "
      ]
     },
     "execution_count": 27,
     "metadata": {},
     "output_type": "execute_result"
    }
   ],
   "source": [
    "df_Doosan = df[df['corp_name']=='두산']\n",
    "df_Doosan"
   ]
  },
  {
   "cell_type": "code",
   "execution_count": 37,
   "id": "c13ba8e7",
   "metadata": {},
   "outputs": [
    {
     "data": {
      "text/plain": [
       "63    0.833825\n",
       "Name: corp_m, dtype: float64"
      ]
     },
     "execution_count": 37,
     "metadata": {},
     "output_type": "execute_result"
    },
    {
     "data": {
      "image/png": "[encoded data removed]",
      "text/plain": [
       "<Figure size 640x480 with 1 Axes>"
      ]
     },
     "metadata": {},
     "output_type": "display_data"
    }
   ],
   "source": [
    "name = ['남자','여자']\n",
    "corp_m = df_Doosan['corp_m'].values\n",
    "m = corp_m[0]\n",
    "corp_w = df_Doosan['corp_w'].values\n",
    "w = corp_w[0]\n",
    "\n",
    "values = [m, w]\n",
    "color = ['skyblue','#2478FF']\n",
    "plt.pie(values, labels = name,colors= color, autopct='%.0f%%')\n",
    "plt.title('남녀사원성비')\n",
    "df_Doosan['corp_m']"
   ]
  }
 ],
 "metadata": {
  "kernelspec": {
   "display_name": "Python 3 (ipykernel)",
   "language": "python",
   "name": "python3"
  },
  "language_info": {
   "codemirror_mode": {
    "name": "ipython",
    "version": 3
   },
   "file_extension": ".py",
   "mimetype": "text/x-python",
   "name": "python",
   "nbconvert_exporter": "python",
   "pygments_lexer": "ipython3",
   "version": "3.10.9"
  }
 },
 "nbformat": 4,
 "nbformat_minor": 5
}
