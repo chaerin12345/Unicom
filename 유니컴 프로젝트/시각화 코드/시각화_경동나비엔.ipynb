{
 "cells": [
  {
   "cell_type": "code",
   "execution_count": 1,
   "id": "81f628ad",
   "metadata": {},
   "outputs": [],
   "source": [
    "import matplotlib.pyplot as plt\n",
    "# 맥북 한글 깨짐\n",
    "from matplotlib import rc\n",
    "rc('font', family='AppleGothic')"
   ]
  },
  {
   "cell_type": "code",
   "execution_count": 2,
   "id": "c5e6ed8d",
   "metadata": {},
   "outputs": [],
   "source": [
    "import pandas as pd\n",
    "df = pd.read_csv(\"/Users/crlee/융복합프로젝트/corp.csv\", encoding='euc-kr')"
   ]
  },
  {
   "cell_type": "code",
   "execution_count": 3,
   "id": "9d3e3dac",
   "metadata": {},
   "outputs": [
    {
     "data": {
      "text/html": [
       "<div>\n",
       "<style scoped>\n",
       "    .dataframe tbody tr th:only-of-type {\n",
       "        vertical-align: middle;\n",
       "    }\n",
       "\n",
       "    .dataframe tbody tr th {\n",
       "        vertical-align: top;\n",
       "    }\n",
       "\n",
       "    .dataframe thead th {\n",
       "        text-align: right;\n",
       "    }\n",
       "</style>\n",
       "<table border=\"1\" class=\"dataframe\">\n",
       "  <thead>\n",
       "    <tr style=\"text-align: right;\">\n",
       "      <th></th>\n",
       "      <th>corp_code</th>\n",
       "      <th>corp_name</th>\n",
       "      <th>corp_m</th>\n",
       "      <th>corp_w</th>\n",
       "      <th>corp_sales</th>\n",
       "      <th>corp_sm</th>\n",
       "      <th>corp_aug</th>\n",
       "      <th>corp_est</th>\n",
       "      <th>corp_sal</th>\n",
       "      <th>corp_add</th>\n",
       "      <th>corp_long</th>\n",
       "      <th>corp_lati</th>\n",
       "      <th>corp_wel</th>\n",
       "      <th>corp_ind</th>\n",
       "      <th>corp_ope</th>\n",
       "    </tr>\n",
       "  </thead>\n",
       "  <tbody>\n",
       "    <tr>\n",
       "      <th>45</th>\n",
       "      <td>101488</td>\n",
       "      <td>경동나비엔</td>\n",
       "      <td>0.888814</td>\n",
       "      <td>0.111186</td>\n",
       "      <td>1.045739e+12</td>\n",
       "      <td>1493</td>\n",
       "      <td>6.69</td>\n",
       "      <td>1973년 12월 06일</td>\n",
       "      <td>53443403.0</td>\n",
       "      <td>경기 평택시 서탄면 수월암길 95</td>\n",
       "      <td>127.039328</td>\n",
       "      <td>37.123716</td>\n",
       "      <td>3.0</td>\n",
       "      <td>경기소비재</td>\n",
       "      <td>6.372189e+10</td>\n",
       "    </tr>\n",
       "  </tbody>\n",
       "</table>\n",
       "</div>"
      ],
      "text/plain": [
       "    corp_code corp_name    corp_m    corp_w    corp_sales  corp_sm  corp_aug  \\\n",
       "45     101488     경동나비엔  0.888814  0.111186  1.045739e+12     1493      6.69   \n",
       "\n",
       "         corp_est    corp_sal            corp_add   corp_long  corp_lati  \\\n",
       "45  1973년 12월 06일  53443403.0  경기 평택시 서탄면 수월암길 95  127.039328  37.123716   \n",
       "\n",
       "    corp_wel corp_ind      corp_ope  \n",
       "45       3.0    경기소비재  6.372189e+10  "
      ]
     },
     "execution_count": 3,
     "metadata": {},
     "output_type": "execute_result"
    }
   ],
   "source": [
    "df_KD = df[df['corp_name']=='경동나비엔']\n",
    "df_KD"
   ]
  },
  {
   "cell_type": "markdown",
   "id": "96b7dd3c",
   "metadata": {},
   "source": [
    "### 파이차트"
   ]
  },
  {
   "cell_type": "code",
   "execution_count": 10,
   "id": "29742a83",
   "metadata": {},
   "outputs": [
    {
     "data": {
      "text/plain": [
       "([<matplotlib.patches.Wedge at 0x7ff29b22d0f0>,\n",
       "  <matplotlib.patches.Wedge at 0x7ff29b22ece0>],\n",
       " [Text(-1.0335738717250187, 0.37646387833011946, '남자'),\n",
       "  Text(1.0335738541014712, -0.3764639267152045, '여자')],\n",
       " [Text(-0.5637675663954647, 0.2053439336346106, '89%'),\n",
       "  Text(0.5637675567826206, -0.20534396002647518, '11%')])"
      ]
     },
     "execution_count": 10,
     "metadata": {},
     "output_type": "execute_result"
    },
    {
     "data": {
      "image/png": "[encoded data removed]",
      "text/plain": [
       "<Figure size 300x300 with 1 Axes>"
      ]
     },
     "metadata": {},
     "output_type": "display_data"
    }
   ],
   "source": [
    "name = ['남자','여자']\n",
    "corp_m = df_KD['corp_m'].values\n",
    "m = corp_m[0]\n",
    "corp_w = df_KD['corp_w'].values\n",
    "w = corp_w[0]\n",
    "\n",
    "values = [m, w]\n",
    "color = ['skyblue','#2478FF']\n",
    "font = {'fontsize': 12, 'fontweight': 'bold'}\n",
    "plt.figure(figsize=(3, 3))\n",
    "\n",
    "plt.pie(values, labels = name,colors= color, autopct='%.0f%%',textprops=font)\n",
    "# plt.title('남녀사원성비')"
   ]
  },
  {
   "cell_type": "markdown",
   "id": "c1fadb75",
   "metadata": {},
   "source": [
    "### 지도"
   ]
  },
  {
   "cell_type": "code",
   "execution_count": 6,
   "id": "c7868d84",
   "metadata": {},
   "outputs": [],
   "source": [
    "import folium as g\n",
    "import pandas as pd"
   ]
  },
  {
   "cell_type": "code",
   "execution_count": 7,
   "id": "56d3b003",
   "metadata": {},
   "outputs": [],
   "source": [
    "# 기본 지도 생성\n",
    "map = g.Map(location=[36,127],zoom_start=7)"
   ]
  },
  {
   "cell_type": "code",
   "execution_count": 8,
   "id": "43e87076",
   "metadata": {},
   "outputs": [
    {
     "data": {
      "text/html": [
       "<div style=\"width:100%;\"><div style=\"position:relative;width:100%;height:0;padding-bottom:60%;\"><span style=\"color:#565656\">Make this Notebook Trusted to load map: File -> Trust Notebook</span><iframe srcdoc=\"&lt;!DOCTYPE html&gt;\n",
       "&lt;html&gt;\n",
       "&lt;head&gt;\n",
       "    \n",
       "    &lt;meta http-equiv=&quot;content-type&quot; content=&quot;text/html; charset=UTF-8&quot; /&gt;\n",
       "    \n",
       "        &lt;script&gt;\n",
       "            L_NO_TOUCH = false;\n",
       "            L_DISABLE_3D = false;\n",
       "        &lt;/script&gt;\n",
       "    \n",
       "    &lt;style&gt;html, body {width: 100%;height: 100%;margin: 0;padding: 0;}&lt;/style&gt;\n",
       "    &lt;style&gt;#map {position:absolute;top:0;bottom:0;right:0;left:0;}&lt;/style&gt;\n",
       "    &lt;script src=&quot;https://cdn.jsdelivr.net/npm/leaflet@1.9.3/dist/leaflet.js&quot;&gt;&lt;/script&gt;\n",
       "    &lt;script src=&quot;https://code.jquery.com/jquery-1.12.4.min.js&quot;&gt;&lt;/script&gt;\n",
       "    &lt;script src=&quot;https://cdn.jsdelivr.net/npm/bootstrap@5.2.2/dist/js/bootstrap.bundle.min.js&quot;&gt;&lt;/script&gt;\n",
       "    &lt;script src=&quot;https://cdnjs.cloudflare.com/ajax/libs/Leaflet.awesome-markers/2.0.2/leaflet.awesome-markers.js&quot;&gt;&lt;/script&gt;\n",
       "    &lt;link rel=&quot;stylesheet&quot; href=&quot;https://cdn.jsdelivr.net/npm/leaflet@1.9.3/dist/leaflet.css&quot;/&gt;\n",
       "    &lt;link rel=&quot;stylesheet&quot; href=&quot;https://cdn.jsdelivr.net/npm/bootstrap@5.2.2/dist/css/bootstrap.min.css&quot;/&gt;\n",
       "    &lt;link rel=&quot;stylesheet&quot; href=&quot;https://netdna.bootstrapcdn.com/bootstrap/3.0.0/css/bootstrap.min.css&quot;/&gt;\n",
       "    &lt;link rel=&quot;stylesheet&quot; href=&quot;https://cdn.jsdelivr.net/npm/@fortawesome/fontawesome-free@6.2.0/css/all.min.css&quot;/&gt;\n",
       "    &lt;link rel=&quot;stylesheet&quot; href=&quot;https://cdnjs.cloudflare.com/ajax/libs/Leaflet.awesome-markers/2.0.2/leaflet.awesome-markers.css&quot;/&gt;\n",
       "    &lt;link rel=&quot;stylesheet&quot; href=&quot;https://cdn.jsdelivr.net/gh/python-visualization/folium/folium/templates/leaflet.awesome.rotate.min.css&quot;/&gt;\n",
       "    \n",
       "            &lt;meta name=&quot;viewport&quot; content=&quot;width=device-width,\n",
       "                initial-scale=1.0, maximum-scale=1.0, user-scalable=no&quot; /&gt;\n",
       "            &lt;style&gt;\n",
       "                #map_f7e7000738dc5481c5ee95f0ddf99fdb {\n",
       "                    position: relative;\n",
       "                    width: 100.0%;\n",
       "                    height: 100.0%;\n",
       "                    left: 0.0%;\n",
       "                    top: 0.0%;\n",
       "                }\n",
       "                .leaflet-container { font-size: 1rem; }\n",
       "            &lt;/style&gt;\n",
       "        \n",
       "&lt;/head&gt;\n",
       "&lt;body&gt;\n",
       "    \n",
       "    \n",
       "            &lt;div class=&quot;folium-map&quot; id=&quot;map_f7e7000738dc5481c5ee95f0ddf99fdb&quot; &gt;&lt;/div&gt;\n",
       "        \n",
       "&lt;/body&gt;\n",
       "&lt;script&gt;\n",
       "    \n",
       "    \n",
       "            var map_f7e7000738dc5481c5ee95f0ddf99fdb = L.map(\n",
       "                &quot;map_f7e7000738dc5481c5ee95f0ddf99fdb&quot;,\n",
       "                {\n",
       "                    center: [36.0, 127.0],\n",
       "                    crs: L.CRS.EPSG3857,\n",
       "                    zoom: 7,\n",
       "                    zoomControl: true,\n",
       "                    preferCanvas: false,\n",
       "                }\n",
       "            );\n",
       "\n",
       "            \n",
       "\n",
       "        \n",
       "    \n",
       "            var tile_layer_02139190c0607e78c413b45ff6cbd2c3 = L.tileLayer(\n",
       "                &quot;https://{s}.tile.openstreetmap.org/{z}/{x}/{y}.png&quot;,\n",
       "                {&quot;attribution&quot;: &quot;Data by \\u0026copy; \\u003ca target=\\&quot;_blank\\&quot; href=\\&quot;http://openstreetmap.org\\&quot;\\u003eOpenStreetMap\\u003c/a\\u003e, under \\u003ca target=\\&quot;_blank\\&quot; href=\\&quot;http://www.openstreetmap.org/copyright\\&quot;\\u003eODbL\\u003c/a\\u003e.&quot;, &quot;detectRetina&quot;: false, &quot;maxNativeZoom&quot;: 18, &quot;maxZoom&quot;: 18, &quot;minZoom&quot;: 0, &quot;noWrap&quot;: false, &quot;opacity&quot;: 1, &quot;subdomains&quot;: &quot;abc&quot;, &quot;tms&quot;: false}\n",
       "            ).addTo(map_f7e7000738dc5481c5ee95f0ddf99fdb);\n",
       "        \n",
       "    \n",
       "            var marker_dc4e6bfbc150433b0310d3ab0bf671b1 = L.marker(\n",
       "                [37.1237155, 127.0393284],\n",
       "                {}\n",
       "            ).addTo(map_f7e7000738dc5481c5ee95f0ddf99fdb);\n",
       "        \n",
       "    \n",
       "            var icon_3059ffce5f6bca91240c37ed1293d054 = L.AwesomeMarkers.icon(\n",
       "                {&quot;extraClasses&quot;: &quot;fa-rotate-0&quot;, &quot;icon&quot;: &quot;info-sign&quot;, &quot;iconColor&quot;: &quot;white&quot;, &quot;markerColor&quot;: &quot;blue&quot;, &quot;prefix&quot;: &quot;glyphicon&quot;}\n",
       "            );\n",
       "            marker_dc4e6bfbc150433b0310d3ab0bf671b1.setIcon(icon_3059ffce5f6bca91240c37ed1293d054);\n",
       "        \n",
       "    \n",
       "        var popup_2eb14e532963b1c4ea9a410f57f61986 = L.popup({&quot;maxWidth&quot;: &quot;100%&quot;});\n",
       "\n",
       "        \n",
       "            \n",
       "                var html_d2ceb2b596e9562b247e4c657d8b7c53 = $(`&lt;div id=&quot;html_d2ceb2b596e9562b247e4c657d8b7c53&quot; style=&quot;width: 100.0%; height: 100.0%;&quot;&gt;45    경동나비엔 Name: corp_name, dtype: object&lt;/div&gt;`)[0];\n",
       "                popup_2eb14e532963b1c4ea9a410f57f61986.setContent(html_d2ceb2b596e9562b247e4c657d8b7c53);\n",
       "            \n",
       "        \n",
       "\n",
       "        marker_dc4e6bfbc150433b0310d3ab0bf671b1.bindPopup(popup_2eb14e532963b1c4ea9a410f57f61986)\n",
       "        ;\n",
       "\n",
       "        \n",
       "    \n",
       "&lt;/script&gt;\n",
       "&lt;/html&gt;\" style=\"position:absolute;width:100%;height:100%;left:0;top:0;border:none !important;\" allowfullscreen webkitallowfullscreen mozallowfullscreen></iframe></div></div>"
      ],
      "text/plain": [
       "<folium.folium.Map at 0x7ff29b272800>"
      ]
     },
     "execution_count": 8,
     "metadata": {},
     "output_type": "execute_result"
    }
   ],
   "source": [
    "# maker\n",
    "i = 0\n",
    "marker = g.Marker([df_KD['corp_lati'],df_KD['corp_long']],\n",
    "                popup=df_KD['corp_name'],\n",
    "                icon = g.Icon(color='blue'))\n",
    "\n",
    "marker.add_to(map)\n",
    "map"
   ]
  },
  {
   "cell_type": "markdown",
   "id": "8472e969",
   "metadata": {},
   "source": [
    "### 주소"
   ]
  },
  {
   "cell_type": "code",
   "execution_count": 9,
   "id": "52cf499f",
   "metadata": {},
   "outputs": [
    {
     "data": {
      "text/plain": [
       "'경기 평택시 서탄면 수월암길 95'"
      ]
     },
     "execution_count": 9,
     "metadata": {},
     "output_type": "execute_result"
    }
   ],
   "source": [
    "df_KD['corp_add'].values[0]"
   ]
  },
  {
   "cell_type": "markdown",
   "id": "55aa2bb4",
   "metadata": {},
   "source": [
    "### 복지"
   ]
  },
  {
   "cell_type": "code",
   "execution_count": 9,
   "id": "88a8c021",
   "metadata": {},
   "outputs": [
    {
     "data": {
      "text/plain": [
       "3.0"
      ]
     },
     "execution_count": 9,
     "metadata": {},
     "output_type": "execute_result"
    }
   ],
   "source": [
    "df_KD['corp_wel'].values[0]"
   ]
  },
  {
   "cell_type": "markdown",
   "id": "f22c6db7",
   "metadata": {},
   "source": [
    "### 설립년도"
   ]
  },
  {
   "cell_type": "code",
   "execution_count": 10,
   "id": "3215abd2",
   "metadata": {},
   "outputs": [
    {
     "data": {
      "text/plain": [
       "'1973년 12월 06일'"
      ]
     },
     "execution_count": 10,
     "metadata": {},
     "output_type": "execute_result"
    }
   ],
   "source": [
    "df_KD['corp_est'].values[0]"
   ]
  },
  {
   "cell_type": "code",
   "execution_count": null,
   "id": "b0d7dc40",
   "metadata": {},
   "outputs": [],
   "source": []
  }
 ],
 "metadata": {
  "kernelspec": {
   "display_name": "Python 3 (ipykernel)",
   "language": "python",
   "name": "python3"
  },
  "language_info": {
   "codemirror_mode": {
    "name": "ipython",
    "version": 3
   },
   "file_extension": ".py",
   "mimetype": "text/x-python",
   "name": "python",
   "nbconvert_exporter": "python",
   "pygments_lexer": "ipython3",
   "version": "3.10.9"
  }
 },
 "nbformat": 4,
 "nbformat_minor": 5
}
