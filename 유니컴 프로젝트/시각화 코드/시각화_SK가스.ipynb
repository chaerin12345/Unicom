{
 "cells": [
  {
   "cell_type": "code",
   "execution_count": 1,
   "id": "81f628ad",
   "metadata": {},
   "outputs": [],
   "source": [
    "import matplotlib.pyplot as plt\n",
    "# 맥북 한글 깨짐\n",
    "from matplotlib import rc\n",
    "rc('font', family='AppleGothic')"
   ]
  },
  {
   "cell_type": "code",
   "execution_count": 2,
   "id": "c5e6ed8d",
   "metadata": {},
   "outputs": [],
   "source": [
    "import pandas as pd\n",
    "df = pd.read_csv(\"/Users/crlee/융복합프로젝트/corp.csv\", encoding='euc-kr')"
   ]
  },
  {
   "cell_type": "code",
   "execution_count": 3,
   "id": "9d3e3dac",
   "metadata": {},
   "outputs": [
    {
     "data": {
      "text/html": [
       "<div>\n",
       "<style scoped>\n",
       "    .dataframe tbody tr th:only-of-type {\n",
       "        vertical-align: middle;\n",
       "    }\n",
       "\n",
       "    .dataframe tbody tr th {\n",
       "        vertical-align: top;\n",
       "    }\n",
       "\n",
       "    .dataframe thead th {\n",
       "        text-align: right;\n",
       "    }\n",
       "</style>\n",
       "<table border=\"1\" class=\"dataframe\">\n",
       "  <thead>\n",
       "    <tr style=\"text-align: right;\">\n",
       "      <th></th>\n",
       "      <th>corp_code</th>\n",
       "      <th>corp_name</th>\n",
       "      <th>corp_m</th>\n",
       "      <th>corp_w</th>\n",
       "      <th>corp_sales</th>\n",
       "      <th>corp_sm</th>\n",
       "      <th>corp_aug</th>\n",
       "      <th>corp_est</th>\n",
       "      <th>corp_sal</th>\n",
       "      <th>corp_add</th>\n",
       "      <th>corp_long</th>\n",
       "      <th>corp_lati</th>\n",
       "      <th>corp_wel</th>\n",
       "      <th>corp_ind</th>\n",
       "      <th>corp_ope</th>\n",
       "    </tr>\n",
       "  </thead>\n",
       "  <tbody>\n",
       "    <tr>\n",
       "      <th>37</th>\n",
       "      <td>144164</td>\n",
       "      <td>SK가스</td>\n",
       "      <td>0.80756</td>\n",
       "      <td>0.19244</td>\n",
       "      <td>6.324334e+12</td>\n",
       "      <td>582</td>\n",
       "      <td>6.7</td>\n",
       "      <td>1985년 12월 20일</td>\n",
       "      <td>95687285.0</td>\n",
       "      <td>경기 성남시 분당구 판교로 332</td>\n",
       "      <td>127.110471</td>\n",
       "      <td>37.402771</td>\n",
       "      <td>2.0</td>\n",
       "      <td>에너지</td>\n",
       "      <td>2.287067e+11</td>\n",
       "    </tr>\n",
       "  </tbody>\n",
       "</table>\n",
       "</div>"
      ],
      "text/plain": [
       "    corp_code corp_name   corp_m   corp_w    corp_sales  corp_sm  corp_aug  \\\n",
       "37     144164      SK가스  0.80756  0.19244  6.324334e+12      582       6.7   \n",
       "\n",
       "         corp_est    corp_sal            corp_add   corp_long  corp_lati  \\\n",
       "37  1985년 12월 20일  95687285.0  경기 성남시 분당구 판교로 332  127.110471  37.402771   \n",
       "\n",
       "    corp_wel corp_ind      corp_ope  \n",
       "37       2.0      에너지  2.287067e+11  "
      ]
     },
     "execution_count": 3,
     "metadata": {},
     "output_type": "execute_result"
    }
   ],
   "source": [
    "df_SKgas = df[df['corp_name']=='SK가스']\n",
    "df_SKgas"
   ]
  },
  {
   "cell_type": "markdown",
   "id": "96b7dd3c",
   "metadata": {},
   "source": [
    "### 파이차트"
   ]
  },
  {
   "cell_type": "code",
   "execution_count": 10,
   "id": "29742a83",
   "metadata": {},
   "outputs": [
    {
     "data": {
      "text/plain": [
       "([<matplotlib.patches.Wedge at 0x7fc5622a2e30>,\n",
       "  <matplotlib.patches.Wedge at 0x7fc5622a3130>],\n",
       " [Text(-0.9050227287675776, 0.6252470395084553, '남자'),\n",
       "  Text(0.9050227580375031, -0.6252469971412827, '여자')],\n",
       " [Text(-0.49364876114595135, 0.3410438397318846, '81%'),\n",
       "  Text(0.4936487771113653, -0.3410438166225178, '19%')])"
      ]
     },
     "execution_count": 10,
     "metadata": {},
     "output_type": "execute_result"
    },
    {
     "data": {
      "image/png": "[encoded data removed]",
      "text/plain": [
       "<Figure size 300x300 with 1 Axes>"
      ]
     },
     "metadata": {},
     "output_type": "display_data"
    }
   ],
   "source": [
    "name = ['남자','여자']\n",
    "corp_m = df_SKgas['corp_m'].values\n",
    "m = corp_m[0]\n",
    "corp_w = df_SKgas['corp_w'].values\n",
    "w = corp_w[0]\n",
    "\n",
    "values = [m, w]\n",
    "color = ['skyblue','#2478FF']\n",
    "font = {'fontsize': 12, 'fontweight': 'bold'}\n",
    "plt.figure(figsize=(3, 3))\n",
    "\n",
    "plt.pie(values, labels = name,colors= color, autopct='%.0f%%',textprops=font)\n",
    "# plt.title('남녀사원성비')"
   ]
  },
  {
   "cell_type": "markdown",
   "id": "c1fadb75",
   "metadata": {},
   "source": [
    "### 지도"
   ]
  },
  {
   "cell_type": "code",
   "execution_count": 5,
   "id": "c7868d84",
   "metadata": {},
   "outputs": [],
   "source": [
    "import folium as g\n",
    "import pandas as pd"
   ]
  },
  {
   "cell_type": "code",
   "execution_count": 6,
   "id": "56d3b003",
   "metadata": {},
   "outputs": [],
   "source": [
    "# 기본 지도 생성\n",
    "map = g.Map(location=[36,127],zoom_start=7)"
   ]
  },
  {
   "cell_type": "code",
   "execution_count": 7,
   "id": "43e87076",
   "metadata": {},
   "outputs": [
    {
     "data": {
      "text/html": [
       "<div style=\"width:100%;\"><div style=\"position:relative;width:100%;height:0;padding-bottom:60%;\"><span style=\"color:#565656\">Make this Notebook Trusted to load map: File -> Trust Notebook</span><iframe srcdoc=\"&lt;!DOCTYPE html&gt;\n",
       "&lt;html&gt;\n",
       "&lt;head&gt;\n",
       "    \n",
       "    &lt;meta http-equiv=&quot;content-type&quot; content=&quot;text/html; charset=UTF-8&quot; /&gt;\n",
       "    \n",
       "        &lt;script&gt;\n",
       "            L_NO_TOUCH = false;\n",
       "            L_DISABLE_3D = false;\n",
       "        &lt;/script&gt;\n",
       "    \n",
       "    &lt;style&gt;html, body {width: 100%;height: 100%;margin: 0;padding: 0;}&lt;/style&gt;\n",
       "    &lt;style&gt;#map {position:absolute;top:0;bottom:0;right:0;left:0;}&lt;/style&gt;\n",
       "    &lt;script src=&quot;https://cdn.jsdelivr.net/npm/leaflet@1.9.3/dist/leaflet.js&quot;&gt;&lt;/script&gt;\n",
       "    &lt;script src=&quot;https://code.jquery.com/jquery-1.12.4.min.js&quot;&gt;&lt;/script&gt;\n",
       "    &lt;script src=&quot;https://cdn.jsdelivr.net/npm/bootstrap@5.2.2/dist/js/bootstrap.bundle.min.js&quot;&gt;&lt;/script&gt;\n",
       "    &lt;script src=&quot;https://cdnjs.cloudflare.com/ajax/libs/Leaflet.awesome-markers/2.0.2/leaflet.awesome-markers.js&quot;&gt;&lt;/script&gt;\n",
       "    &lt;link rel=&quot;stylesheet&quot; href=&quot;https://cdn.jsdelivr.net/npm/leaflet@1.9.3/dist/leaflet.css&quot;/&gt;\n",
       "    &lt;link rel=&quot;stylesheet&quot; href=&quot;https://cdn.jsdelivr.net/npm/bootstrap@5.2.2/dist/css/bootstrap.min.css&quot;/&gt;\n",
       "    &lt;link rel=&quot;stylesheet&quot; href=&quot;https://netdna.bootstrapcdn.com/bootstrap/3.0.0/css/bootstrap.min.css&quot;/&gt;\n",
       "    &lt;link rel=&quot;stylesheet&quot; href=&quot;https://cdn.jsdelivr.net/npm/@fortawesome/fontawesome-free@6.2.0/css/all.min.css&quot;/&gt;\n",
       "    &lt;link rel=&quot;stylesheet&quot; href=&quot;https://cdnjs.cloudflare.com/ajax/libs/Leaflet.awesome-markers/2.0.2/leaflet.awesome-markers.css&quot;/&gt;\n",
       "    &lt;link rel=&quot;stylesheet&quot; href=&quot;https://cdn.jsdelivr.net/gh/python-visualization/folium/folium/templates/leaflet.awesome.rotate.min.css&quot;/&gt;\n",
       "    \n",
       "            &lt;meta name=&quot;viewport&quot; content=&quot;width=device-width,\n",
       "                initial-scale=1.0, maximum-scale=1.0, user-scalable=no&quot; /&gt;\n",
       "            &lt;style&gt;\n",
       "                #map_b63f3d0006e906d125d1115f80079a71 {\n",
       "                    position: relative;\n",
       "                    width: 100.0%;\n",
       "                    height: 100.0%;\n",
       "                    left: 0.0%;\n",
       "                    top: 0.0%;\n",
       "                }\n",
       "                .leaflet-container { font-size: 1rem; }\n",
       "            &lt;/style&gt;\n",
       "        \n",
       "&lt;/head&gt;\n",
       "&lt;body&gt;\n",
       "    \n",
       "    \n",
       "            &lt;div class=&quot;folium-map&quot; id=&quot;map_b63f3d0006e906d125d1115f80079a71&quot; &gt;&lt;/div&gt;\n",
       "        \n",
       "&lt;/body&gt;\n",
       "&lt;script&gt;\n",
       "    \n",
       "    \n",
       "            var map_b63f3d0006e906d125d1115f80079a71 = L.map(\n",
       "                &quot;map_b63f3d0006e906d125d1115f80079a71&quot;,\n",
       "                {\n",
       "                    center: [36.0, 127.0],\n",
       "                    crs: L.CRS.EPSG3857,\n",
       "                    zoom: 7,\n",
       "                    zoomControl: true,\n",
       "                    preferCanvas: false,\n",
       "                }\n",
       "            );\n",
       "\n",
       "            \n",
       "\n",
       "        \n",
       "    \n",
       "            var tile_layer_fc72affac23e87787f39a96322b7a9c4 = L.tileLayer(\n",
       "                &quot;https://{s}.tile.openstreetmap.org/{z}/{x}/{y}.png&quot;,\n",
       "                {&quot;attribution&quot;: &quot;Data by \\u0026copy; \\u003ca target=\\&quot;_blank\\&quot; href=\\&quot;http://openstreetmap.org\\&quot;\\u003eOpenStreetMap\\u003c/a\\u003e, under \\u003ca target=\\&quot;_blank\\&quot; href=\\&quot;http://www.openstreetmap.org/copyright\\&quot;\\u003eODbL\\u003c/a\\u003e.&quot;, &quot;detectRetina&quot;: false, &quot;maxNativeZoom&quot;: 18, &quot;maxZoom&quot;: 18, &quot;minZoom&quot;: 0, &quot;noWrap&quot;: false, &quot;opacity&quot;: 1, &quot;subdomains&quot;: &quot;abc&quot;, &quot;tms&quot;: false}\n",
       "            ).addTo(map_b63f3d0006e906d125d1115f80079a71);\n",
       "        \n",
       "    \n",
       "            var marker_99877c85fa3842dff46ee663dc6497d3 = L.marker(\n",
       "                [37.4027708, 127.1104705],\n",
       "                {}\n",
       "            ).addTo(map_b63f3d0006e906d125d1115f80079a71);\n",
       "        \n",
       "    \n",
       "            var icon_fb326a90622371c812aeff6d2a3b4ab5 = L.AwesomeMarkers.icon(\n",
       "                {&quot;extraClasses&quot;: &quot;fa-rotate-0&quot;, &quot;icon&quot;: &quot;info-sign&quot;, &quot;iconColor&quot;: &quot;white&quot;, &quot;markerColor&quot;: &quot;blue&quot;, &quot;prefix&quot;: &quot;glyphicon&quot;}\n",
       "            );\n",
       "            marker_99877c85fa3842dff46ee663dc6497d3.setIcon(icon_fb326a90622371c812aeff6d2a3b4ab5);\n",
       "        \n",
       "    \n",
       "        var popup_d754cd605ebd3bca7ea9a2087c098407 = L.popup({&quot;maxWidth&quot;: &quot;100%&quot;});\n",
       "\n",
       "        \n",
       "            \n",
       "                var html_2b284c100a8cc36d0e5324a3f712d21a = $(`&lt;div id=&quot;html_2b284c100a8cc36d0e5324a3f712d21a&quot; style=&quot;width: 100.0%; height: 100.0%;&quot;&gt;37    SK가스 Name: corp_name, dtype: object&lt;/div&gt;`)[0];\n",
       "                popup_d754cd605ebd3bca7ea9a2087c098407.setContent(html_2b284c100a8cc36d0e5324a3f712d21a);\n",
       "            \n",
       "        \n",
       "\n",
       "        marker_99877c85fa3842dff46ee663dc6497d3.bindPopup(popup_d754cd605ebd3bca7ea9a2087c098407)\n",
       "        ;\n",
       "\n",
       "        \n",
       "    \n",
       "&lt;/script&gt;\n",
       "&lt;/html&gt;\" style=\"position:absolute;width:100%;height:100%;left:0;top:0;border:none !important;\" allowfullscreen webkitallowfullscreen mozallowfullscreen></iframe></div></div>"
      ],
      "text/plain": [
       "<folium.folium.Map at 0x7fc5622ca110>"
      ]
     },
     "execution_count": 7,
     "metadata": {},
     "output_type": "execute_result"
    }
   ],
   "source": [
    "# maker\n",
    "i = 0\n",
    "marker = g.Marker([df_SKgas['corp_lati'],df_SKgas['corp_long']],\n",
    "                popup=df_SKgas['corp_name'],\n",
    "                icon = g.Icon(color='blue'))\n",
    "\n",
    "marker.add_to(map)\n",
    "map"
   ]
  },
  {
   "cell_type": "markdown",
   "id": "8472e969",
   "metadata": {},
   "source": [
    "### 주소"
   ]
  },
  {
   "cell_type": "code",
   "execution_count": 8,
   "id": "52cf499f",
   "metadata": {},
   "outputs": [
    {
     "data": {
      "text/plain": [
       "'경기 성남시 분당구 판교로 332'"
      ]
     },
     "execution_count": 8,
     "metadata": {},
     "output_type": "execute_result"
    }
   ],
   "source": [
    "df_SKgas['corp_add'].values[0]"
   ]
  },
  {
   "cell_type": "markdown",
   "id": "55aa2bb4",
   "metadata": {},
   "source": [
    "### 복지"
   ]
  },
  {
   "cell_type": "code",
   "execution_count": 9,
   "id": "88a8c021",
   "metadata": {},
   "outputs": [
    {
     "data": {
      "text/plain": [
       "2.0"
      ]
     },
     "execution_count": 9,
     "metadata": {},
     "output_type": "execute_result"
    }
   ],
   "source": [
    "df_SKgas['corp_wel'].values[0]"
   ]
  },
  {
   "cell_type": "markdown",
   "id": "f22c6db7",
   "metadata": {},
   "source": [
    "### 설립년도"
   ]
  },
  {
   "cell_type": "code",
   "execution_count": 10,
   "id": "3215abd2",
   "metadata": {},
   "outputs": [
    {
     "data": {
      "text/plain": [
       "'1985년 12월 20일'"
      ]
     },
     "execution_count": 10,
     "metadata": {},
     "output_type": "execute_result"
    }
   ],
   "source": [
    "df_SKgas['corp_est'].values[0]"
   ]
  },
  {
   "cell_type": "code",
   "execution_count": null,
   "id": "120b2863",
   "metadata": {},
   "outputs": [],
   "source": []
  }
 ],
 "metadata": {
  "kernelspec": {
   "display_name": "Python 3 (ipykernel)",
   "language": "python",
   "name": "python3"
  },
  "language_info": {
   "codemirror_mode": {
    "name": "ipython",
    "version": 3
   },
   "file_extension": ".py",
   "mimetype": "text/x-python",
   "name": "python",
   "nbconvert_exporter": "python",
   "pygments_lexer": "ipython3",
   "version": "3.10.9"
  }
 },
 "nbformat": 4,
 "nbformat_minor": 5
}
