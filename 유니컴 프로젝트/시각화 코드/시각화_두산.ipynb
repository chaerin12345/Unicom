{
 "cells": [
  {
   "cell_type": "code",
   "execution_count": 1,
   "id": "660afff6",
   "metadata": {},
   "outputs": [],
   "source": [
    "import matplotlib.pyplot as plt\n",
    "# 맥북 한글 깨짐\n",
    "from matplotlib import rc\n",
    "rc('font', family='AppleGothic')"
   ]
  },
  {
   "cell_type": "code",
   "execution_count": 2,
   "id": "3ed932bf",
   "metadata": {},
   "outputs": [],
   "source": [
    "import pandas as pd\n",
    "df = pd.read_csv(\"/Users/crlee/융복합프로젝트/corp.csv\", encoding='euc-kr')"
   ]
  },
  {
   "cell_type": "code",
   "execution_count": 3,
   "id": "48bcfcab",
   "metadata": {},
   "outputs": [
    {
     "data": {
      "text/html": [
       "<div>\n",
       "<style scoped>\n",
       "    .dataframe tbody tr th:only-of-type {\n",
       "        vertical-align: middle;\n",
       "    }\n",
       "\n",
       "    .dataframe tbody tr th {\n",
       "        vertical-align: top;\n",
       "    }\n",
       "\n",
       "    .dataframe thead th {\n",
       "        text-align: right;\n",
       "    }\n",
       "</style>\n",
       "<table border=\"1\" class=\"dataframe\">\n",
       "  <thead>\n",
       "    <tr style=\"text-align: right;\">\n",
       "      <th></th>\n",
       "      <th>corp_code</th>\n",
       "      <th>corp_name</th>\n",
       "      <th>corp_m</th>\n",
       "      <th>corp_w</th>\n",
       "      <th>corp_sales</th>\n",
       "      <th>corp_sm</th>\n",
       "      <th>corp_aug</th>\n",
       "      <th>corp_est</th>\n",
       "      <th>corp_sal</th>\n",
       "      <th>corp_add</th>\n",
       "      <th>corp_long</th>\n",
       "      <th>corp_lati</th>\n",
       "      <th>corp_wel</th>\n",
       "      <th>corp_ind</th>\n",
       "      <th>corp_ope</th>\n",
       "    </tr>\n",
       "  </thead>\n",
       "  <tbody>\n",
       "    <tr>\n",
       "      <th>63</th>\n",
       "      <td>117212</td>\n",
       "      <td>두산</td>\n",
       "      <td>0.833825</td>\n",
       "      <td>0.166175</td>\n",
       "      <td>1.364917e+13</td>\n",
       "      <td>2034</td>\n",
       "      <td>9.07</td>\n",
       "      <td>1933년 12월 18일</td>\n",
       "      <td>88784169.0</td>\n",
       "      <td>서울 중구 장충단로 275</td>\n",
       "      <td>127.008716</td>\n",
       "      <td>37.56871</td>\n",
       "      <td>0.0</td>\n",
       "      <td>산업재</td>\n",
       "      <td>6.654155e+11</td>\n",
       "    </tr>\n",
       "  </tbody>\n",
       "</table>\n",
       "</div>"
      ],
      "text/plain": [
       "    corp_code corp_name    corp_m    corp_w    corp_sales  corp_sm  corp_aug  \\\n",
       "63     117212        두산  0.833825  0.166175  1.364917e+13     2034      9.07   \n",
       "\n",
       "         corp_est    corp_sal        corp_add   corp_long  corp_lati  \\\n",
       "63  1933년 12월 18일  88784169.0  서울 중구 장충단로 275  127.008716   37.56871   \n",
       "\n",
       "    corp_wel corp_ind      corp_ope  \n",
       "63       0.0      산업재  6.654155e+11  "
      ]
     },
     "execution_count": 3,
     "metadata": {},
     "output_type": "execute_result"
    }
   ],
   "source": [
    "df_Doosan = df[df['corp_name']=='두산']\n",
    "df_Doosan"
   ]
  },
  {
   "cell_type": "markdown",
   "id": "7c9edc83",
   "metadata": {},
   "source": [
    "### 파이차트"
   ]
  },
  {
   "cell_type": "code",
   "execution_count": 33,
   "id": "ab1a7fe9",
   "metadata": {},
   "outputs": [
    {
     "data": {
      "text/plain": [
       "([<matplotlib.patches.Wedge at 0x7f7a59ed3940>,\n",
       "  <matplotlib.patches.Wedge at 0x7f7a59ed3880>],\n",
       " [Text(-0.9534763329538328, 0.5485279231697433, '남자'),\n",
       "  Text(0.9534763586322772, -0.5485278785342943, '여자')],\n",
       " [Text(-0.5200779997929997, 0.2991970490016781, '83%'),\n",
       "  Text(0.5200780137994239, -0.2991970246550696, '17%')])"
      ]
     },
     "execution_count": 33,
     "metadata": {},
     "output_type": "execute_result"
    },
    {
     "data": {
      "image/png": "[encoded data removed]",
      "text/plain": [
       "<Figure size 300x300 with 1 Axes>"
      ]
     },
     "metadata": {},
     "output_type": "display_data"
    }
   ],
   "source": [
    "name = ['남자','여자']\n",
    "corp_m = df_Doosan['corp_m'].values\n",
    "m = corp_m[0]\n",
    "corp_w = df_Doosan['corp_w'].values\n",
    "w = corp_w[0]\n",
    "\n",
    "values = [m, w]\n",
    "color = ['skyblue','#2478FF']\n",
    "font = {'fontsize': 12, 'fontweight': 'bold'}\n",
    "plt.figure(figsize=(3, 3))\n",
    "plt.pie(values, labels = name,colors= color, autopct='%.0f%%',textprops=font)\n",
    "# plt.title('남녀사원성비')"
   ]
  },
  {
   "cell_type": "markdown",
   "id": "2e25ec34",
   "metadata": {},
   "source": [
    "### 지도"
   ]
  },
  {
   "cell_type": "code",
   "execution_count": 5,
   "id": "13c87532",
   "metadata": {},
   "outputs": [],
   "source": [
    "import folium as g\n",
    "import pandas as pd"
   ]
  },
  {
   "cell_type": "code",
   "execution_count": 6,
   "id": "605f8264",
   "metadata": {},
   "outputs": [],
   "source": [
    "# 기본 지도 생성\n",
    "map = g.Map(location=[36,127],zoom_start=7)"
   ]
  },
  {
   "cell_type": "code",
   "execution_count": 7,
   "id": "fa7e6623",
   "metadata": {},
   "outputs": [
    {
     "data": {
      "text/html": [
       "<div style=\"width:100%;\"><div style=\"position:relative;width:100%;height:0;padding-bottom:60%;\"><span style=\"color:#565656\">Make this Notebook Trusted to load map: File -> Trust Notebook</span><iframe srcdoc=\"&lt;!DOCTYPE html&gt;\n",
       "&lt;html&gt;\n",
       "&lt;head&gt;\n",
       "    \n",
       "    &lt;meta http-equiv=&quot;content-type&quot; content=&quot;text/html; charset=UTF-8&quot; /&gt;\n",
       "    \n",
       "        &lt;script&gt;\n",
       "            L_NO_TOUCH = false;\n",
       "            L_DISABLE_3D = false;\n",
       "        &lt;/script&gt;\n",
       "    \n",
       "    &lt;style&gt;html, body {width: 100%;height: 100%;margin: 0;padding: 0;}&lt;/style&gt;\n",
       "    &lt;style&gt;#map {position:absolute;top:0;bottom:0;right:0;left:0;}&lt;/style&gt;\n",
       "    &lt;script src=&quot;https://cdn.jsdelivr.net/npm/leaflet@1.9.3/dist/leaflet.js&quot;&gt;&lt;/script&gt;\n",
       "    &lt;script src=&quot;https://code.jquery.com/jquery-1.12.4.min.js&quot;&gt;&lt;/script&gt;\n",
       "    &lt;script src=&quot;https://cdn.jsdelivr.net/npm/bootstrap@5.2.2/dist/js/bootstrap.bundle.min.js&quot;&gt;&lt;/script&gt;\n",
       "    &lt;script src=&quot;https://cdnjs.cloudflare.com/ajax/libs/Leaflet.awesome-markers/2.0.2/leaflet.awesome-markers.js&quot;&gt;&lt;/script&gt;\n",
       "    &lt;link rel=&quot;stylesheet&quot; href=&quot;https://cdn.jsdelivr.net/npm/leaflet@1.9.3/dist/leaflet.css&quot;/&gt;\n",
       "    &lt;link rel=&quot;stylesheet&quot; href=&quot;https://cdn.jsdelivr.net/npm/bootstrap@5.2.2/dist/css/bootstrap.min.css&quot;/&gt;\n",
       "    &lt;link rel=&quot;stylesheet&quot; href=&quot;https://netdna.bootstrapcdn.com/bootstrap/3.0.0/css/bootstrap.min.css&quot;/&gt;\n",
       "    &lt;link rel=&quot;stylesheet&quot; href=&quot;https://cdn.jsdelivr.net/npm/@fortawesome/fontawesome-free@6.2.0/css/all.min.css&quot;/&gt;\n",
       "    &lt;link rel=&quot;stylesheet&quot; href=&quot;https://cdnjs.cloudflare.com/ajax/libs/Leaflet.awesome-markers/2.0.2/leaflet.awesome-markers.css&quot;/&gt;\n",
       "    &lt;link rel=&quot;stylesheet&quot; href=&quot;https://cdn.jsdelivr.net/gh/python-visualization/folium/folium/templates/leaflet.awesome.rotate.min.css&quot;/&gt;\n",
       "    \n",
       "            &lt;meta name=&quot;viewport&quot; content=&quot;width=device-width,\n",
       "                initial-scale=1.0, maximum-scale=1.0, user-scalable=no&quot; /&gt;\n",
       "            &lt;style&gt;\n",
       "                #map_151b4bb7963ef688fe3cb83eaaa3c99a {\n",
       "                    position: relative;\n",
       "                    width: 100.0%;\n",
       "                    height: 100.0%;\n",
       "                    left: 0.0%;\n",
       "                    top: 0.0%;\n",
       "                }\n",
       "                .leaflet-container { font-size: 1rem; }\n",
       "            &lt;/style&gt;\n",
       "        \n",
       "&lt;/head&gt;\n",
       "&lt;body&gt;\n",
       "    \n",
       "    \n",
       "            &lt;div class=&quot;folium-map&quot; id=&quot;map_151b4bb7963ef688fe3cb83eaaa3c99a&quot; &gt;&lt;/div&gt;\n",
       "        \n",
       "&lt;/body&gt;\n",
       "&lt;script&gt;\n",
       "    \n",
       "    \n",
       "            var map_151b4bb7963ef688fe3cb83eaaa3c99a = L.map(\n",
       "                &quot;map_151b4bb7963ef688fe3cb83eaaa3c99a&quot;,\n",
       "                {\n",
       "                    center: [36.0, 127.0],\n",
       "                    crs: L.CRS.EPSG3857,\n",
       "                    zoom: 7,\n",
       "                    zoomControl: true,\n",
       "                    preferCanvas: false,\n",
       "                }\n",
       "            );\n",
       "\n",
       "            \n",
       "\n",
       "        \n",
       "    \n",
       "            var tile_layer_50880bafc85bfd95fbb31823b8a9e6c3 = L.tileLayer(\n",
       "                &quot;https://{s}.tile.openstreetmap.org/{z}/{x}/{y}.png&quot;,\n",
       "                {&quot;attribution&quot;: &quot;Data by \\u0026copy; \\u003ca target=\\&quot;_blank\\&quot; href=\\&quot;http://openstreetmap.org\\&quot;\\u003eOpenStreetMap\\u003c/a\\u003e, under \\u003ca target=\\&quot;_blank\\&quot; href=\\&quot;http://www.openstreetmap.org/copyright\\&quot;\\u003eODbL\\u003c/a\\u003e.&quot;, &quot;detectRetina&quot;: false, &quot;maxNativeZoom&quot;: 18, &quot;maxZoom&quot;: 18, &quot;minZoom&quot;: 0, &quot;noWrap&quot;: false, &quot;opacity&quot;: 1, &quot;subdomains&quot;: &quot;abc&quot;, &quot;tms&quot;: false}\n",
       "            ).addTo(map_151b4bb7963ef688fe3cb83eaaa3c99a);\n",
       "        \n",
       "    \n",
       "            var marker_f962c2c174b640eabe02f8068d61b3e6 = L.marker(\n",
       "                [37.5687099, 127.0087157],\n",
       "                {}\n",
       "            ).addTo(map_151b4bb7963ef688fe3cb83eaaa3c99a);\n",
       "        \n",
       "    \n",
       "            var icon_c33a4e9a8c26758d6d998b7fdb0c31d7 = L.AwesomeMarkers.icon(\n",
       "                {&quot;extraClasses&quot;: &quot;fa-rotate-0&quot;, &quot;icon&quot;: &quot;info-sign&quot;, &quot;iconColor&quot;: &quot;white&quot;, &quot;markerColor&quot;: &quot;blue&quot;, &quot;prefix&quot;: &quot;glyphicon&quot;}\n",
       "            );\n",
       "            marker_f962c2c174b640eabe02f8068d61b3e6.setIcon(icon_c33a4e9a8c26758d6d998b7fdb0c31d7);\n",
       "        \n",
       "    \n",
       "        var popup_1076ef713042f683a661e1e1e8b15cef = L.popup({&quot;maxWidth&quot;: &quot;100%&quot;});\n",
       "\n",
       "        \n",
       "            \n",
       "                var html_5998ce270e7d79eda298e66729ae0e91 = $(`&lt;div id=&quot;html_5998ce270e7d79eda298e66729ae0e91&quot; style=&quot;width: 100.0%; height: 100.0%;&quot;&gt;63    두산 Name: corp_name, dtype: object&lt;/div&gt;`)[0];\n",
       "                popup_1076ef713042f683a661e1e1e8b15cef.setContent(html_5998ce270e7d79eda298e66729ae0e91);\n",
       "            \n",
       "        \n",
       "\n",
       "        marker_f962c2c174b640eabe02f8068d61b3e6.bindPopup(popup_1076ef713042f683a661e1e1e8b15cef)\n",
       "        ;\n",
       "\n",
       "        \n",
       "    \n",
       "&lt;/script&gt;\n",
       "&lt;/html&gt;\" style=\"position:absolute;width:100%;height:100%;left:0;top:0;border:none !important;\" allowfullscreen webkitallowfullscreen mozallowfullscreen></iframe></div></div>"
      ],
      "text/plain": [
       "<folium.folium.Map at 0x7f7a58c18ac0>"
      ]
     },
     "execution_count": 7,
     "metadata": {},
     "output_type": "execute_result"
    }
   ],
   "source": [
    "# maker\n",
    "i = 0\n",
    "marker = g.Marker([df_Doosan['corp_lati'],df_Doosan['corp_long']],\n",
    "                popup=df_Doosan['corp_name'],\n",
    "                icon = g.Icon(color='blue'))\n",
    "\n",
    "marker.add_to(map)\n",
    "map"
   ]
  },
  {
   "cell_type": "markdown",
   "id": "c20c286b",
   "metadata": {},
   "source": [
    "### 주소"
   ]
  },
  {
   "cell_type": "code",
   "execution_count": 8,
   "id": "ecf5f417",
   "metadata": {},
   "outputs": [
    {
     "data": {
      "text/plain": [
       "'서울 중구 장충단로 275'"
      ]
     },
     "execution_count": 8,
     "metadata": {},
     "output_type": "execute_result"
    }
   ],
   "source": [
    "df_Doosan['corp_add'].values[0]"
   ]
  },
  {
   "cell_type": "markdown",
   "id": "00e8e13d",
   "metadata": {},
   "source": [
    "### 복지"
   ]
  },
  {
   "cell_type": "code",
   "execution_count": 9,
   "id": "c5817e3e",
   "metadata": {},
   "outputs": [
    {
     "data": {
      "text/plain": [
       "0.0"
      ]
     },
     "execution_count": 9,
     "metadata": {},
     "output_type": "execute_result"
    }
   ],
   "source": [
    "df_Doosan['corp_wel'].values[0]"
   ]
  },
  {
   "cell_type": "markdown",
   "id": "b152cfbd",
   "metadata": {},
   "source": [
    "### 설립년도"
   ]
  },
  {
   "cell_type": "code",
   "execution_count": 10,
   "id": "a8e21397",
   "metadata": {},
   "outputs": [
    {
     "data": {
      "text/plain": [
       "'1933년 12월 18일'"
      ]
     },
     "execution_count": 10,
     "metadata": {},
     "output_type": "execute_result"
    }
   ],
   "source": [
    "df_Doosan['corp_est'].values[0]"
   ]
  },
  {
   "cell_type": "code",
   "execution_count": null,
   "id": "3cbf63ac",
   "metadata": {},
   "outputs": [],
   "source": []
  }
 ],
 "metadata": {
  "kernelspec": {
   "display_name": "Python 3 (ipykernel)",
   "language": "python",
   "name": "python3"
  },
  "language_info": {
   "codemirror_mode": {
    "name": "ipython",
    "version": 3
   },
   "file_extension": ".py",
   "mimetype": "text/x-python",
   "name": "python",
   "nbconvert_exporter": "python",
   "pygments_lexer": "ipython3",
   "version": "3.10.9"
  }
 },
 "nbformat": 4,
 "nbformat_minor": 5
}
